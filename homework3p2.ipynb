{
 "cells": [
  {
   "cell_type": "code",
   "execution_count": 1,
   "id": "9c53f2f3-75d7-4c42-89d6-d41e191401e4",
   "metadata": {},
   "outputs": [],
   "source": [
    "from sklearn.feature_selection import RFECV\n",
    "from sklearn.model_selection import StratifiedKFold\n",
    "from sklearn.ensemble import RandomForestClassifier"
   ]
  },
  {
   "cell_type": "code",
   "execution_count": 2,
   "id": "5f1edaa0-3911-4c89-b49b-d7474603f251",
   "metadata": {},
   "outputs": [],
   "source": [
    "import pandas as pd"
   ]
  },
  {
   "cell_type": "code",
   "execution_count": 3,
   "id": "2521bb0a-add8-4b3d-be00-ef30d60d0c1f",
   "metadata": {},
   "outputs": [],
   "source": [
    "from sklearn.linear_model import Lasso"
   ]
  },
  {
   "cell_type": "code",
   "execution_count": 4,
   "id": "3497db5d-d2f7-470a-9bab-3c1e4b53f072",
   "metadata": {},
   "outputs": [],
   "source": [
    "from sklearn.ensemble import RandomForestRegressor"
   ]
  },
  {
   "cell_type": "code",
   "execution_count": 5,
   "id": "9a1874d3-4e51-4e58-aa01-fbcae91c965c",
   "metadata": {},
   "outputs": [],
   "source": [
    "import numpy as np\n",
    "import statsmodels.api as sm"
   ]
  },
  {
   "cell_type": "code",
   "execution_count": 6,
   "id": "b063454b-83da-4400-b1ef-c7881daa5ea0",
   "metadata": {},
   "outputs": [],
   "source": [
    "import statsmodels.api as sm"
   ]
  },
  {
   "cell_type": "code",
   "execution_count": 7,
   "id": "a2fa5ba5-d9c0-4211-8b55-e95dcbe21096",
   "metadata": {},
   "outputs": [],
   "source": [
    "df= pd.read_csv('BMI.csv')"
   ]
  },
  {
   "cell_type": "code",
   "execution_count": 8,
   "id": "6c2aaafb-6d97-42ff-b502-3401a047887f",
   "metadata": {},
   "outputs": [],
   "source": [
    "x = df.drop('fatpctg', axis=1)\n",
    "y = df['fatpctg']"
   ]
  },
  {
   "cell_type": "code",
   "execution_count": 9,
   "id": "19595202-997f-4dcb-ba82-8abee305d07d",
   "metadata": {},
   "outputs": [],
   "source": [
    "def forward_stepwise_selection(X, y, initial_list=[], threshold_in=0.01):\n",
    "    included = list(initial_list)\n",
    "    while True:\n",
    "        changed = False\n",
    "\n",
    "        # Forward step\n",
    "        excluded = list(set(X.columns) - set(included))\n",
    "        new_pval = pd.Series(index=excluded)\n",
    "\n",
    "        for new_column in excluded:\n",
    "            model = sm.OLS(y, sm.add_constant(pd.DataFrame(X[included + [new_column]]))).fit()\n",
    "            new_pval[new_column] = model.pvalues[new_column]\n",
    "\n",
    "        best_pval = new_pval.min()\n",
    "        if best_pval < threshold_in:\n",
    "            best_feature = new_pval.idxmin()\n",
    "            included.append(best_feature)\n",
    "            changed = True\n",
    "\n",
    "        if not changed:\n",
    "            break\n",
    "\n",
    "    return included\n"
   ]
  },
  {
   "cell_type": "code",
   "execution_count": 10,
   "id": "8c037907-2ff7-4e24-b4fb-07120de29305",
   "metadata": {},
   "outputs": [],
   "source": [
    "def backward_stepwise_selection(X, y, initial_list=[], threshold_out=0.01):\n",
    "    included = x.columns.tolist()\n",
    "    while True:\n",
    "        changed = False\n",
    "\n",
    "       \n",
    "\n",
    "        # Backward step\n",
    "        model = sm.OLS(y, sm.add_constant(pd.DataFrame(X[included]))).fit()\n",
    "        pvalues = model.pvalues.drop('const')\n",
    "        worst_pval = pvalues.max()\n",
    "        if worst_pval > threshold_out:\n",
    "            changed = True\n",
    "            worst_feature = pvalues.idxmax()\n",
    "            included.remove(worst_feature)\n",
    "        \n",
    "        if not changed:\n",
    "            break\n",
    "\n",
    "    return included\n"
   ]
  },
  {
   "cell_type": "code",
   "execution_count": 11,
   "id": "425185fd-293b-4e77-955f-76eaa7109e6f",
   "metadata": {},
   "outputs": [
    {
     "name": "stdout",
     "output_type": "stream",
     "text": [
      "Selected features: ['Abdomen', 'Weight', 'Wrist']\n"
     ]
    }
   ],
   "source": [
    "result = forward_stepwise_selection(x, y)\n",
    "print(\"Selected features:\", result)"
   ]
  },
  {
   "cell_type": "code",
   "execution_count": 12,
   "id": "6e9891e4-7a6f-4133-bc09-d2038aeb6740",
   "metadata": {},
   "outputs": [
    {
     "name": "stdout",
     "output_type": "stream",
     "text": [
      "Selected features: ['Age', 'Neck', 'Abdomen', 'Forearm', 'Wrist']\n"
     ]
    }
   ],
   "source": [
    "result = backward_stepwise_selection(x, y)\n",
    "print(\"Selected features:\", result)"
   ]
  },
  {
   "cell_type": "code",
   "execution_count": 13,
   "id": "5bfe5bc6-423d-4cbc-aaf4-eff35ade4060",
   "metadata": {},
   "outputs": [],
   "source": [
    "correlations = x.corrwith(y)"
   ]
  },
  {
   "cell_type": "code",
   "execution_count": 14,
   "id": "ac4aead9-f271-4c6f-89bd-8fd62cb56f57",
   "metadata": {},
   "outputs": [
    {
     "name": "stdout",
     "output_type": "stream",
     "text": [
      "         Feature  Correlation\n",
      "Abdomen  Abdomen     0.813432\n",
      "Chest      Chest     0.702620\n",
      "Hip          Hip     0.625201\n",
      "Weight    Weight     0.612925\n",
      "Thigh      Thigh     0.559608\n",
      "Knee        Knee     0.508665\n",
      "Biceps    Biceps     0.493271\n",
      "Neck        Neck     0.490592\n",
      "Forearm  Forearm     0.361387\n",
      "Wrist      Wrist     0.346575\n",
      "Age          Age     0.291458\n",
      "Ankle      Ankle     0.265970\n",
      "Height    Height     0.133211\n"
     ]
    }
   ],
   "source": [
    "correlation_df = pd.DataFrame({'Feature': x.columns, 'Correlation': correlations.abs()})\n",
    "\n",
    "# Sort the DataFrame by absolute correlation values in descending order\n",
    "correlation_df = correlation_df.sort_values(by='Correlation', ascending=False)\n",
    "\n",
    "# Output the ranking\n",
    "print(correlation_df)"
   ]
  },
  {
   "cell_type": "code",
   "execution_count": 15,
   "id": "bc7f3999-abab-4f97-8005-127e0643d175",
   "metadata": {},
   "outputs": [
    {
     "data": {
      "text/html": [
       "<style>#sk-container-id-1 {color: black;}#sk-container-id-1 pre{padding: 0;}#sk-container-id-1 div.sk-toggleable {background-color: white;}#sk-container-id-1 label.sk-toggleable__label {cursor: pointer;display: block;width: 100%;margin-bottom: 0;padding: 0.3em;box-sizing: border-box;text-align: center;}#sk-container-id-1 label.sk-toggleable__label-arrow:before {content: \"▸\";float: left;margin-right: 0.25em;color: #696969;}#sk-container-id-1 label.sk-toggleable__label-arrow:hover:before {color: black;}#sk-container-id-1 div.sk-estimator:hover label.sk-toggleable__label-arrow:before {color: black;}#sk-container-id-1 div.sk-toggleable__content {max-height: 0;max-width: 0;overflow: hidden;text-align: left;background-color: #f0f8ff;}#sk-container-id-1 div.sk-toggleable__content pre {margin: 0.2em;color: black;border-radius: 0.25em;background-color: #f0f8ff;}#sk-container-id-1 input.sk-toggleable__control:checked~div.sk-toggleable__content {max-height: 200px;max-width: 100%;overflow: auto;}#sk-container-id-1 input.sk-toggleable__control:checked~label.sk-toggleable__label-arrow:before {content: \"▾\";}#sk-container-id-1 div.sk-estimator input.sk-toggleable__control:checked~label.sk-toggleable__label {background-color: #d4ebff;}#sk-container-id-1 div.sk-label input.sk-toggleable__control:checked~label.sk-toggleable__label {background-color: #d4ebff;}#sk-container-id-1 input.sk-hidden--visually {border: 0;clip: rect(1px 1px 1px 1px);clip: rect(1px, 1px, 1px, 1px);height: 1px;margin: -1px;overflow: hidden;padding: 0;position: absolute;width: 1px;}#sk-container-id-1 div.sk-estimator {font-family: monospace;background-color: #f0f8ff;border: 1px dotted black;border-radius: 0.25em;box-sizing: border-box;margin-bottom: 0.5em;}#sk-container-id-1 div.sk-estimator:hover {background-color: #d4ebff;}#sk-container-id-1 div.sk-parallel-item::after {content: \"\";width: 100%;border-bottom: 1px solid gray;flex-grow: 1;}#sk-container-id-1 div.sk-label:hover label.sk-toggleable__label {background-color: #d4ebff;}#sk-container-id-1 div.sk-serial::before {content: \"\";position: absolute;border-left: 1px solid gray;box-sizing: border-box;top: 0;bottom: 0;left: 50%;z-index: 0;}#sk-container-id-1 div.sk-serial {display: flex;flex-direction: column;align-items: center;background-color: white;padding-right: 0.2em;padding-left: 0.2em;position: relative;}#sk-container-id-1 div.sk-item {position: relative;z-index: 1;}#sk-container-id-1 div.sk-parallel {display: flex;align-items: stretch;justify-content: center;background-color: white;position: relative;}#sk-container-id-1 div.sk-item::before, #sk-container-id-1 div.sk-parallel-item::before {content: \"\";position: absolute;border-left: 1px solid gray;box-sizing: border-box;top: 0;bottom: 0;left: 50%;z-index: -1;}#sk-container-id-1 div.sk-parallel-item {display: flex;flex-direction: column;z-index: 1;position: relative;background-color: white;}#sk-container-id-1 div.sk-parallel-item:first-child::after {align-self: flex-end;width: 50%;}#sk-container-id-1 div.sk-parallel-item:last-child::after {align-self: flex-start;width: 50%;}#sk-container-id-1 div.sk-parallel-item:only-child::after {width: 0;}#sk-container-id-1 div.sk-dashed-wrapped {border: 1px dashed gray;margin: 0 0.4em 0.5em 0.4em;box-sizing: border-box;padding-bottom: 0.4em;background-color: white;}#sk-container-id-1 div.sk-label label {font-family: monospace;font-weight: bold;display: inline-block;line-height: 1.2em;}#sk-container-id-1 div.sk-label-container {text-align: center;}#sk-container-id-1 div.sk-container {/* jupyter's `normalize.less` sets `[hidden] { display: none; }` but bootstrap.min.css set `[hidden] { display: none !important; }` so we also need the `!important` here to be able to override the default hidden behavior on the sphinx rendered scikit-learn.org. See: https://github.com/scikit-learn/scikit-learn/issues/21755 */display: inline-block !important;position: relative;}#sk-container-id-1 div.sk-text-repr-fallback {display: none;}</style><div id=\"sk-container-id-1\" class=\"sk-top-container\"><div class=\"sk-text-repr-fallback\"><pre>Lasso(alpha=0.5)</pre><b>In a Jupyter environment, please rerun this cell to show the HTML representation or trust the notebook. <br />On GitHub, the HTML representation is unable to render, please try loading this page with nbviewer.org.</b></div><div class=\"sk-container\" hidden><div class=\"sk-item\"><div class=\"sk-estimator sk-toggleable\"><input class=\"sk-toggleable__control sk-hidden--visually\" id=\"sk-estimator-id-1\" type=\"checkbox\" checked><label for=\"sk-estimator-id-1\" class=\"sk-toggleable__label sk-toggleable__label-arrow\">Lasso</label><div class=\"sk-toggleable__content\"><pre>Lasso(alpha=0.5)</pre></div></div></div></div></div>"
      ],
      "text/plain": [
       "Lasso(alpha=0.5)"
      ]
     },
     "execution_count": 15,
     "metadata": {},
     "output_type": "execute_result"
    }
   ],
   "source": [
    "lasso = Lasso(alpha=0.5)  # You can adjust the regularization strength (alpha) as needed\n",
    "lasso.fit(x, y)"
   ]
  },
  {
   "cell_type": "code",
   "execution_count": 16,
   "id": "1b68f2c4-7707-489c-90ca-7b7fc1373b9d",
   "metadata": {},
   "outputs": [
    {
     "name": "stdout",
     "output_type": "stream",
     "text": [
      "Abdomen    0.931107\n",
      "Neck       0.309097\n",
      "Thigh      0.131093\n",
      "Weight     0.100067\n",
      "Hip        0.090851\n",
      "Forearm    0.072192\n",
      "Height     0.052464\n",
      "Age        0.017125\n",
      "Wrist      0.009993\n",
      "Chest      0.000000\n",
      "Knee       0.000000\n",
      "Ankle      0.000000\n",
      "Biceps     0.000000\n",
      "dtype: float64\n"
     ]
    }
   ],
   "source": [
    "feature_coefficients = pd.Series(lasso.coef_, index=x.columns)\n",
    "\n",
    "# Sort the features based on the absolute coefficients in descending order\n",
    "feature_ranking_lasso = feature_coefficients.abs().sort_values(ascending=False)\n",
    "\n",
    "# Output the ranking\n",
    "print(feature_ranking_lasso)"
   ]
  },
  {
   "cell_type": "code",
   "execution_count": 17,
   "id": "d73622b7-da0a-4651-80f0-6e3ce7e6f956",
   "metadata": {},
   "outputs": [
    {
     "name": "stdout",
     "output_type": "stream",
     "text": [
      "Abdomen    0.722864\n",
      "Height     0.033021\n",
      "Weight     0.032006\n",
      "Knee       0.026639\n",
      "Chest      0.024176\n",
      "Neck       0.023463\n",
      "Wrist      0.022668\n",
      "Age        0.022626\n",
      "Ankle      0.020640\n",
      "Hip        0.020024\n",
      "Biceps     0.018914\n",
      "Thigh      0.018499\n",
      "Forearm    0.014460\n",
      "dtype: float64\n"
     ]
    }
   ],
   "source": [
    "rf = RandomForestRegressor(n_estimators=100)  # You can adjust parameters as needed\n",
    "rf.fit(x, y)\n",
    "\n",
    "# Get feature importances\n",
    "feature_importances = pd.Series(rf.feature_importances_, index=x.columns)\n",
    "\n",
    "# Sort the features based on importance in descending order\n",
    "feature_ranking_rf = feature_importances.sort_values(ascending=False)\n",
    "\n",
    "# Output the ranking\n",
    "print(feature_ranking_rf)"
   ]
  },
  {
   "cell_type": "code",
   "execution_count": null,
   "id": "39ec066a-5657-4740-831e-f46c6c408502",
   "metadata": {},
   "outputs": [],
   "source": []
  }
 ],
 "metadata": {
  "kernelspec": {
   "display_name": "anaconda-panel-2023.05-py310",
   "language": "python",
   "name": "conda-env-anaconda-panel-2023.05-py310-py"
  },
  "language_info": {
   "codemirror_mode": {
    "name": "ipython",
    "version": 3
   },
   "file_extension": ".py",
   "mimetype": "text/x-python",
   "name": "python",
   "nbconvert_exporter": "python",
   "pygments_lexer": "ipython3",
   "version": "3.11.5"
  }
 },
 "nbformat": 4,
 "nbformat_minor": 5
}
